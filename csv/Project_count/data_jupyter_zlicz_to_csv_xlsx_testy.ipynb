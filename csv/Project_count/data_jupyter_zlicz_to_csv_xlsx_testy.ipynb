{
 "cells": [
  {
   "cell_type": "code",
   "execution_count": null,
   "metadata": {},
   "outputs": [],
   "source": [
    "    #biblioteki\n",
    "import pandas as pd\n",
    "import numpy\n",
    "import csv"
   ]
  },
  {
   "cell_type": "code",
   "execution_count": null,
   "metadata": {},
   "outputs": [],
   "source": [
    "    #otwieranie pliku csv\n",
    "df = pd.read_csv('./file.csv',sep=',')\n",
    "#print(df)"
   ]
  },
  {
   "cell_type": "code",
   "execution_count": null,
   "metadata": {},
   "outputs": [],
   "source": [
    "#plik csv   \n",
    "    #tworzenie nagłówków dla pliku i nadpisywanie pliku \n",
    "                #with open (\"new_roboczy.csv\", \"a - dodanie do istenijącego poliku/stworzneie nowego pliku jeżeli nie istnieje \n",
    "                #                              \"w - tworzenie za każdym razem nowego pliku/nadpisanie istniejącego pliku   \n",
    "header = [\"Model\", \"Code\", \"Zliczone\"]\n",
    "with open (\"new.csv\", \"w\", encoding='UTF8') as file:\n",
    "        writer = csv.writer(file)\n",
    "        writer.writerow(header)\n",
    "\n",
    "#---------------------------------------------------------------------------------------------------------------------------------------\n",
    "\n",
    "    #wyszczególnienie zduplikowanych wartości\n",
    "df_uniq = df['model'].unique()\n",
    "\n",
    "    #zliczanie ile razy powtórzy się dany błąd\n",
    "i=0\n",
    "while i<len(df_uniq):\n",
    "            #przypisanie modelu do zmiennej \n",
    "        df_count_model = df[df['model']==df_uniq[i]]\n",
    "            #zliczanie ile razy powtarza się wartość w kolumnie \"code\" dla wcześniejszej wartości modelu\n",
    "        df_count = df_count_model['code'].value_counts()\n",
    "            #resetowanie indexu, aby zostało to zapisane jako tabela, gdzie w tabeli wartość index to code a wartość code to zliczanie\n",
    "        df_count = df_count.reset_index()\n",
    "\n",
    "\n",
    "            #wyświetlanie nazw kolumn tabeli\n",
    "        print(\"Model\", '\\t', \"Code\", '\\t', \"Zliczone\")\n",
    "\n",
    "        #--------------------------------------------------------------------------------------------------------------------------------\n",
    "            #tworzenie konkrentej zmiennej dla wartości zliczonej (wartość code oraz zliczone),\n",
    "            #stworzone aby jak jest więcej wartości code (jeden lub wiecej) przypisanej do nowej zmiennej\n",
    "        j = 0\n",
    "        while j<len(df_count['index'].values):\n",
    "            df_count2_index_code = (df_count['index'][j])\n",
    "            \n",
    "            df_count2_code_zlicz = (df_count['code'][j])\n",
    "            print(df_uniq[i], '\\t', df_count2_index_code ,'\\t', df_count2_code_zlicz)\n",
    "\n",
    "            #-----------------------------------------------------------------------------------------------------------------------\n",
    "            #write to csv\n",
    "                #tworzenie zmiennej data do zapisu do pliku csv\n",
    "            data = [df_uniq[i],df_count2_index_code,df_count2_code_zlicz]\n",
    "                #with open (\"new_roboczy.csv\", \"a - dodanie do istenijącego poliku/stworzneie nowego pliku jeżeli nie istnieje \n",
    "                #                              \"w - tworzenie za każdym razem nowego pliku/nadpisanie istniejącego pliku   \n",
    "            with open (\"new.csv\", \"a\",encoding='UTF8', newline='') as file:\n",
    "                writer = csv.writer(file)\n",
    "                writer.writerow(data) \n",
    "            #-----------------------------------------------------------------------------------------------------------------------\n",
    "            \n",
    "                #inkrementacja pętli\n",
    "            j += 1\n",
    "\n",
    "\n",
    "\n",
    "        #-------------------------------------------------------------------------------------------------------------------------------------------\n",
    "        #-------------------------------------------------------------------------------------------------------------------------------------------\n",
    "        print('\\n')\n",
    "\n",
    "        #-------------------------------------------------------------------------------------------------------------------------------------------\n",
    "        #-------------------------------------------------------------------------------------------------------------------------------------------\n",
    "            #iteracja wartości do wykonania głównej pętli while\n",
    "        i += 1"
   ]
  },
  {
   "cell_type": "code",
   "execution_count": null,
   "metadata": {},
   "outputs": [],
   "source": [
    "#Konwertowanie pliku csv do pliku XSLX\n",
    "\n",
    "    # Reading the csv file\n",
    "df_excel = pd.read_csv('new.csv')\n",
    "    # saving xlsx file\n",
    "GFG = pd.ExcelWriter('new.xlsx')\n",
    "df_excel.to_excel(GFG, index=False)\n",
    "GFG.save()"
   ]
  }
 ],
 "metadata": {
  "kernelspec": {
   "display_name": "Python 3 (ipykernel)",
   "language": "python",
   "name": "python3"
  },
  "language_info": {
   "codemirror_mode": {
    "name": "ipython",
    "version": 3
   },
   "file_extension": ".py",
   "mimetype": "text/x-python",
   "name": "python",
   "nbconvert_exporter": "python",
   "pygments_lexer": "ipython3",
   "version": "3.10.6"
  },
  "vscode": {
   "interpreter": {
    "hash": "916dbcbb3f70747c44a77c7bcd40155683ae19c65e1c03b4aa3499c5328201f1"
   }
  }
 },
 "nbformat": 4,
 "nbformat_minor": 2
}
